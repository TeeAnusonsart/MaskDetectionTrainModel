{
 "cells": [
  {
   "cell_type": "code",
   "execution_count": 1,
   "id": "2a397054-b4fa-43c1-adda-dd5f24cc188f",
   "metadata": {},
   "outputs": [
    {
     "name": "stderr",
     "output_type": "stream",
     "text": [
      "C:\\Users\\MASTER\\anaconda3\\envs\\myenv\\lib\\site-packages\\scipy\\__init__.py:146: UserWarning: A NumPy version >=1.16.5 and <1.23.0 is required for this version of SciPy (detected version 1.23.1\n",
      "  warnings.warn(f\"A NumPy version >={np_minversion} and <{np_maxversion}\"\n"
     ]
    }
   ],
   "source": [
    "import os\n",
    "import numpy as np\n",
    "import pandas as pd\n",
    "from PIL import Image\n",
    "import tensorflow as tf\n",
    "import matplotlib.pyplot as plt\n",
    "from sklearn.model_selection import train_test_split\n",
    "from tensorflow import keras\n",
    "from keras.models import Sequential,load_model\n",
    "from keras.layers import Conv2D,MaxPooling2D,SpatialDropout2D,Flatten,Dropout,Dense\n",
    "from keras.preprocessing import image\n",
    "from keras.preprocessing.image import ImageDataGenerator"
   ]
  },
  {
   "cell_type": "code",
   "execution_count": 684,
   "id": "7fd8bb60-df12-4ae4-a0d3-0ead07c24744",
   "metadata": {},
   "outputs": [],
   "source": [
    "train=ImageDataGenerator(rescale=1/255,validation_split=0.2)\n",
    "size=100\n",
    "sizes=(size,size)"
   ]
  },
  {
   "cell_type": "code",
   "execution_count": 835,
   "id": "37f3cd5f-6bac-46fd-9cac-05deafda391f",
   "metadata": {},
   "outputs": [
    {
     "name": "stdout",
     "output_type": "stream",
     "text": [
      "Found 4792 images belonging to 2 classes.\n",
      "Found 1198 images belonging to 2 classes.\n"
     ]
    }
   ],
   "source": [
    "traindataset=train.flow_from_directory(\"C:/Users/MASTER/Documents/archive (1)/Dataset\",\n",
    "                                      target_size=(sizes),\n",
    "                                       batch_size=80,\n",
    "                                       class_mode='binary',\n",
    "                                       subset='training')\n",
    "testdataset=train.flow_from_directory(\"C:/Users/MASTER/Documents/archive (1)/Dataset\",\n",
    "                                      target_size=(sizes),\n",
    "                                       batch_size=80,\n",
    "                                       class_mode='binary',\n",
    "                                      subset='validation')"
   ]
  },
  {
   "cell_type": "code",
   "execution_count": 836,
   "id": "b5b5e74c-55a9-4ed5-bebb-ecf6c46717c7",
   "metadata": {},
   "outputs": [
    {
     "name": "stdout",
     "output_type": "stream",
     "text": [
      "Model: \"sequential_112\"\n",
      "_________________________________________________________________\n",
      " Layer (type)                Output Shape              Param #   \n",
      "=================================================================\n",
      " conv2d_333 (Conv2D)         (None, 98, 98, 40)        1120      \n",
      "                                                                 \n",
      " max_pooling2d_331 (MaxPooli  (None, 49, 49, 40)       0         \n",
      " ng2D)                                                           \n",
      "                                                                 \n",
      " conv2d_334 (Conv2D)         (None, 47, 47, 32)        11552     \n",
      "                                                                 \n",
      " max_pooling2d_332 (MaxPooli  (None, 23, 23, 32)       0         \n",
      " ng2D)                                                           \n",
      "                                                                 \n",
      " conv2d_335 (Conv2D)         (None, 21, 21, 20)        5780      \n",
      "                                                                 \n",
      " max_pooling2d_333 (MaxPooli  (None, 10, 10, 20)       0         \n",
      " ng2D)                                                           \n",
      "                                                                 \n",
      " dropout_110 (Dropout)       (None, 10, 10, 20)        0         \n",
      "                                                                 \n",
      " flatten_110 (Flatten)       (None, 2000)              0         \n",
      "                                                                 \n",
      " dense_220 (Dense)           (None, 60)                120060    \n",
      "                                                                 \n",
      " dense_221 (Dense)           (None, 1)                 61        \n",
      "                                                                 \n",
      "=================================================================\n",
      "Total params: 138,573\n",
      "Trainable params: 138,573\n",
      "Non-trainable params: 0\n",
      "_________________________________________________________________\n"
     ]
    }
   ],
   "source": [
    "model=Sequential()\n",
    "model.add(Conv2D(40,(3,3),activation=\"relu\",input_shape=(size,size,3)))\n",
    "model.add(MaxPooling2D(pool_size=(2,2)))\n",
    "model.add(Conv2D(32,(3,3),activation=\"relu\",input_shape=(size,size,3)))\n",
    "model.add(MaxPooling2D(pool_size=(2,2)))\n",
    "model.add(Conv2D(20,(3,3),activation=\"relu\",input_shape=(size,size,3)))\n",
    "model.add(MaxPooling2D(pool_size=(2,2)))\n",
    "model.add(Dropout(0.25))\n",
    "model.add(Flatten())\n",
    "model.add(Dense(60,activation=\"relu\"))\n",
    "model.add(Dense(1,activation=\"sigmoid\"))\n",
    "model.summary()"
   ]
  },
  {
   "cell_type": "code",
   "execution_count": 837,
   "id": "3326711a-5a8c-42cd-ba9d-e5f14a84e2ff",
   "metadata": {},
   "outputs": [],
   "source": [
    "model.compile(optimizer=\"adam\",loss=\"binary_crossentropy\",metrics=[\"accuracy\"])"
   ]
  },
  {
   "cell_type": "code",
   "execution_count": 844,
   "id": "583df59f-c2d2-4e94-88a3-8136d8734216",
   "metadata": {},
   "outputs": [
    {
     "name": "stdout",
     "output_type": "stream",
     "text": [
      "60/60 [==============================] - 16s 260ms/step - loss: 0.0974 - accuracy: 0.9660\n"
     ]
    },
    {
     "data": {
      "text/plain": [
       "<keras.callbacks.History at 0x24e3d133b50>"
      ]
     },
     "execution_count": 844,
     "metadata": {},
     "output_type": "execute_result"
    }
   ],
   "source": [
    "model.fit(traindataset,epochs=1)"
   ]
  },
  {
   "cell_type": "code",
   "execution_count": 864,
   "id": "abce5058-5f6c-45a1-afbd-5655bf0c3ad6",
   "metadata": {},
   "outputs": [],
   "source": [
    "import cv2\n",
    "import numpy as np\n",
    "path=\"C:/Users/MASTER/Documents/archive (1)/Dataset/with_mask/502.png\"\n",
    "img=cv2.imread(path)\n",
    "img=cv2.resize(img,sizes)\n",
    "mask=np.array(img)\n",
    "mask=mask.astype(\"float32\")\n",
    "mask/=255\n",
    "mask=np.reshape(mask,(1,size,size,3))"
   ]
  },
  {
   "cell_type": "code",
   "execution_count": 865,
   "id": "cb6a8bbe-0c4f-4a3f-b80c-4e5d4848d0c2",
   "metadata": {},
   "outputs": [
    {
     "name": "stdout",
     "output_type": "stream",
     "text": [
      "[[0.9947988]]\n",
      "wearmesk\n"
     ]
    }
   ],
   "source": [
    "prediction=model.predict(mask)\n",
    "print(prediction)\n",
    "img=image.load_img(path)\n",
    "img.show()\n",
    "if (prediction)>0.5:\n",
    "    print(\"wearmesk\")\n",
    "else:\n",
    "    print(\"withoutmask\")"
   ]
  },
  {
   "cell_type": "code",
   "execution_count": 863,
   "id": "9772f6cc-95c1-480c-856c-aaefab868481",
   "metadata": {},
   "outputs": [
    {
     "name": "stdout",
     "output_type": "stream",
     "text": [
      "INFO:tensorflow:Assets written to: C:/Users/MASTER/Documents/assets\n"
     ]
    }
   ],
   "source": [
    "model.save('C:/Users/MASTER/Documents/')"
   ]
  }
 ],
 "metadata": {
  "kernelspec": {
   "display_name": "Python 3 (ipykernel)",
   "language": "python",
   "name": "python3"
  },
  "language_info": {
   "codemirror_mode": {
    "name": "ipython",
    "version": 3
   },
   "file_extension": ".py",
   "mimetype": "text/x-python",
   "name": "python",
   "nbconvert_exporter": "python",
   "pygments_lexer": "ipython3",
   "version": "3.10.4"
  },
  "toc-autonumbering": false
 },
 "nbformat": 4,
 "nbformat_minor": 5
}
